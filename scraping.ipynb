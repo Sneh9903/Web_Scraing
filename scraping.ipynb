{
 "cells": [
  {
   "cell_type": "code",
   "execution_count": null,
   "id": "1d02fcbb",
   "metadata": {},
   "outputs": [],
   "source": [
    "pip install --upgrade selenium"
   ]
  },
  {
   "cell_type": "code",
   "execution_count": null,
   "id": "d73bfe60",
   "metadata": {},
   "outputs": [],
   "source": [
    "from selenium import webdriver\n",
    "from time import sleep\n",
    "from selenium.webdriver.common.by import By\n",
    "from bs4 import BeautifulSoup as bs"
   ]
  },
  {
   "cell_type": "code",
   "execution_count": null,
   "id": "f9baf02b",
   "metadata": {},
   "outputs": [],
   "source": [
    "path = 'C://chromedriver.exe'"
   ]
  },
  {
   "cell_type": "code",
   "execution_count": null,
   "id": "3e1f11a8",
   "metadata": {},
   "outputs": [],
   "source": [
    "browser = webdriver.Chrome()"
   ]
  },
  {
   "cell_type": "code",
   "execution_count": null,
   "id": "7c9bf778",
   "metadata": {},
   "outputs": [],
   "source": [
    "browser.get('https://www.amazon.in')"
   ]
  },
  {
   "cell_type": "code",
   "execution_count": null,
   "id": "f4260892",
   "metadata": {},
   "outputs": [],
   "source": [
    "klass = \"a-size-base a-link-normal review-title a-color-base review-title-content a-text-bold\"\n",
    "next_button = browser.find_element(By.XPATH, \"//li[@class='a-last']\")"
   ]
  },
  {
   "cell_type": "code",
   "execution_count": null,
   "id": "5f3f9a49",
   "metadata": {},
   "outputs": [],
   "source": [
    " soup = bs(browser.page_source, 'html.parser')"
   ]
  },
  {
   "cell_type": "code",
   "execution_count": null,
   "id": "fba2da19",
   "metadata": {},
   "outputs": [],
   "source": [
    "browser.find_elements(By.XPATH, \"//span[@class='a-size-base review-text review-text-content']\")[0].text"
   ]
  },
  {
   "cell_type": "code",
   "execution_count": null,
   "id": "c1d8e60d",
   "metadata": {},
   "outputs": [],
   "source": [
    "names = []\n",
    "rating= []\n",
    "review = []\n",
    "for i in range(10):\n",
    "    print('scraping page number', i+1)\n",
    "    ttl = browser.find_elements(By.XPATH, \"//a[@class='a-size-base a-link-normal review-title a-color-base review-title-content a-text-bold']\")\n",
    "    stars = soup.find_all('i',attrs={'data-hook': 'review-star-rating'})\n",
    "    rv = browser.find_elements(By.XPATH, \"//span[@class='a-size-base review-text review-text-content']\")\n",
    "    \n",
    "    for j in range(len(ttl)):\n",
    "        names.append(ttl[j].text)\n",
    "        \n",
    "    for k in range(len(stars)):\n",
    "        rating.append(stars[k].get_text())\n",
    "        \n",
    "    for l in range(len(rv)):\n",
    "        review.append(rv[l].text)\n",
    "        \n",
    "    next_button = browser.find_element(By.XPATH, \"//li[@class='a-last']\")\n",
    "    next_button.click()\n",
    "    sleep(2)"
   ]
  },
  {
   "cell_type": "code",
   "execution_count": null,
   "id": "eea05dcb",
   "metadata": {},
   "outputs": [],
   "source": []
  },
  {
   "cell_type": "code",
   "execution_count": null,
   "id": "f6aeb03e",
   "metadata": {},
   "outputs": [],
   "source": []
  },
  {
   "cell_type": "code",
   "execution_count": null,
   "id": "8643c4cf",
   "metadata": {},
   "outputs": [],
   "source": [
    "input_search = browser.find_element(By.ID, 'twotabsearchtextbox')\n",
    "search_button = browser.find_element(By.ID, 'nav-search-submit-button')"
   ]
  },
  {
   "cell_type": "code",
   "execution_count": null,
   "id": "8f2f5d63",
   "metadata": {},
   "outputs": [],
   "source": [
    "input_search.send_keys(\"Headphones\")\n",
    "sleep(1)"
   ]
  },
  {
   "cell_type": "code",
   "execution_count": null,
   "id": "36cf1352",
   "metadata": {},
   "outputs": [],
   "source": [
    "search_button.click()"
   ]
  },
  {
   "cell_type": "code",
   "execution_count": null,
   "id": "7d3203f1",
   "metadata": {},
   "outputs": [],
   "source": [
    "number_of_products = len(browser.find_elements(By.XPATH, \"//span[@class = 'a-size-medium a-color-base a-text-normal']\"))"
   ]
  },
  {
   "cell_type": "code",
   "execution_count": null,
   "id": "f3ff892a",
   "metadata": {},
   "outputs": [],
   "source": [
    "product_button = browser.find_elements(By.XPATH, \"//span[@class = 'a-size-medium a-color-base a-text-normal']\")[0]"
   ]
  },
  {
   "cell_type": "code",
   "execution_count": null,
   "id": "b6ae3327",
   "metadata": {},
   "outputs": [],
   "source": [
    "product_button.click()"
   ]
  },
  {
   "cell_type": "code",
   "execution_count": null,
   "id": "92394bdc",
   "metadata": {},
   "outputs": [],
   "source": []
  },
  {
   "cell_type": "code",
   "execution_count": null,
   "id": "9344a2c4",
   "metadata": {},
   "outputs": [],
   "source": [
    "browser.switch_to.window(browser.window_handles[1])"
   ]
  },
  {
   "cell_type": "code",
   "execution_count": null,
   "id": "72a8f2da",
   "metadata": {},
   "outputs": [],
   "source": [
    "browser.current_url"
   ]
  },
  {
   "cell_type": "code",
   "execution_count": null,
   "id": "9ee29497",
   "metadata": {},
   "outputs": [],
   "source": [
    "browser.close()"
   ]
  },
  {
   "cell_type": "code",
   "execution_count": null,
   "id": "385d1b6d",
   "metadata": {},
   "outputs": [],
   "source": [
    "browser.switch_to.window(browser.window_handles[0])"
   ]
  },
  {
   "cell_type": "code",
   "execution_count": null,
   "id": "014d0a43",
   "metadata": {},
   "outputs": [],
   "source": [
    "browser.current_url"
   ]
  },
  {
   "cell_type": "code",
   "execution_count": null,
   "id": "f89a9dcc",
   "metadata": {},
   "outputs": [],
   "source": [
    "product_button = browser.find_elements(By.XPATH, \"//span[@class = 'a-size-medium a-color-base a-text-normal']\")[1]"
   ]
  },
  {
   "cell_type": "code",
   "execution_count": null,
   "id": "1028c26b",
   "metadata": {},
   "outputs": [],
   "source": [
    "product_button.click()"
   ]
  },
  {
   "cell_type": "code",
   "execution_count": null,
   "id": "847cdab3",
   "metadata": {},
   "outputs": [],
   "source": [
    "browser.switch_to.window(browser.window_handles[1])"
   ]
  },
  {
   "cell_type": "code",
   "execution_count": null,
   "id": "a3bdca71",
   "metadata": {},
   "outputs": [],
   "source": [
    "more_review_button = browser.find_elements(By.XPATH, \"//a[@class='a-link-emphasis a-text-bold']\")[0]"
   ]
  },
  {
   "cell_type": "code",
   "execution_count": null,
   "id": "b214bdce",
   "metadata": {},
   "outputs": [],
   "source": [
    "more_review_button.click()"
   ]
  },
  {
   "cell_type": "code",
   "execution_count": null,
   "id": "9538c0b6",
   "metadata": {},
   "outputs": [],
   "source": [
    "names = []\n",
    "rating= []\n",
    "review = []\n",
    "for i in range(10):\n",
    "    print('scraping page number', i+1)\n",
    "    soup = bs(browser.page_source, 'html.parser')\n",
    "    ttl = browser.find_elements(By.XPATH, \"//a[@class='a-size-base a-link-normal review-title a-color-base review-title-content a-text-bold']\")\n",
    "    stars = soup.find_all('i',attrs={'data-hook': 'review-star-rating'})\n",
    "    rv = browser.find_elements(By.XPATH, \"//span[@class='a-size-base review-text review-text-content']\")\n",
    "    \n",
    "    for j in range(len(ttl)):\n",
    "        names.append(ttl[j].text)\n",
    "        \n",
    "    for k in range(len(stars)):\n",
    "        rating.append(stars[k].get_text())\n",
    "        \n",
    "    for l in range(len(rv)):\n",
    "        review.append(rv[l].text)\n",
    "        \n",
    "    next_button = browser.find_element(By.XPATH, \"//li[@class='a-last']\")\n",
    "    next_button.click()\n",
    "    sleep(2)"
   ]
  },
  {
   "cell_type": "code",
   "execution_count": null,
   "id": "7e77b587",
   "metadata": {},
   "outputs": [],
   "source": []
  },
  {
   "cell_type": "code",
   "execution_count": null,
   "id": "5b5e40c1",
   "metadata": {},
   "outputs": [],
   "source": []
  },
  {
   "cell_type": "code",
   "execution_count": null,
   "id": "2f8226fa",
   "metadata": {},
   "outputs": [],
   "source": [
    "browser.switch_to.window(browser.window_handles[0])"
   ]
  },
  {
   "cell_type": "code",
   "execution_count": null,
   "id": "846af71b",
   "metadata": {},
   "outputs": [],
   "source": [
    "browser.current_url"
   ]
  },
  {
   "cell_type": "code",
   "execution_count": null,
   "id": "77b945b2",
   "metadata": {},
   "outputs": [],
   "source": [
    "product_button = browser.find_elements(By.XPATH, \"//span[@class = 'a-size-medium a-color-base a-text-normal']\")[1]"
   ]
  },
  {
   "cell_type": "code",
   "execution_count": null,
   "id": "80dc8d97",
   "metadata": {},
   "outputs": [],
   "source": [
    "product_button.click()"
   ]
  },
  {
   "cell_type": "code",
   "execution_count": null,
   "id": "06ab8bbd",
   "metadata": {},
   "outputs": [],
   "source": []
  },
  {
   "cell_type": "code",
   "execution_count": null,
   "id": "d2e72862",
   "metadata": {},
   "outputs": [],
   "source": []
  },
  {
   "cell_type": "code",
   "execution_count": null,
   "id": "787fd25a",
   "metadata": {},
   "outputs": [],
   "source": [
    "from selenium import webdriver\n",
    "from time import sleep\n",
    "from selenium.webdriver.common.by import By\n",
    "from bs4 import BeautifulSoup as bs"
   ]
  },
  {
   "cell_type": "code",
   "execution_count": null,
   "id": "612ac5e3",
   "metadata": {},
   "outputs": [],
   "source": [
    "path = 'C://chromedriver.exe'\n",
    "browser = webdriver.Chrome()\n",
    "browser.get('https://www.amazon.in')"
   ]
  },
  {
   "cell_type": "code",
   "execution_count": null,
   "id": "e4758364",
   "metadata": {},
   "outputs": [],
   "source": [
    "input_search = browser.find_element(By.ID, 'twotabsearchtextbox')\n",
    "search_button = browser.find_element(By.ID, 'nav-search-submit-button')\n",
    "input_search.send_keys(\"Headphones\")\n",
    "sleep(1)\n",
    "search_button.click()"
   ]
  },
  {
   "cell_type": "code",
   "execution_count": null,
   "id": "e9037fe1",
   "metadata": {},
   "outputs": [],
   "source": []
  },
  {
   "cell_type": "code",
   "execution_count": null,
   "id": "956f41f6",
   "metadata": {},
   "outputs": [],
   "source": [
    "names = []\n",
    "rating= []\n",
    "review = []\n",
    "for p in range(20):\n",
    "    print(\"page\", p+1)\n",
    "    number_of_products = len(browser.find_elements(By.XPATH, \"//span[@class = 'a-size-medium a-color-base a-text-normal']\"))\n",
    "    print(\"number_of_products\", number_of_products)\n",
    "    #next_page_button = browser.find_element(By.XPATH, \"//a[@class='s-pagination-item s-pagination-next s-pagination-button s-pagination-separator']\")\n",
    "    #next_page_button.click()\n",
    "\n",
    "\n",
    "    for i in range(number_of_products):\n",
    "        print('scraping product number', i+1)\n",
    "        product_button = browser.find_elements(By.XPATH, \"//span[@class = 'a-size-medium a-color-base a-text-normal']\")[i]\n",
    "        product_button.click()\n",
    "        sleep(2)\n",
    "        browser.switch_to.window(browser.window_handles[1])\n",
    "        if len(browser.find_elements(By.XPATH, \"//a[@class='a-link-emphasis a-text-bold']\"))>0:\n",
    "\n",
    "            more_review_button = browser.find_elements(By.XPATH, \"//a[@class='a-link-emphasis a-text-bold']\")[0]\n",
    "            more_review_button.click()\n",
    "            a = 0\n",
    "            while(True):\n",
    "\n",
    "                print('scraping page number', a+1)\n",
    "                a = a+1\n",
    "                soup = bs(browser.page_source, 'html.parser')\n",
    "                ttl = browser.find_elements(By.XPATH, \"//a[@class='a-size-base a-link-normal review-title a-color-base review-title-content a-text-bold']\")\n",
    "                stars = soup.find_all('i',attrs={'data-hook': 'review-star-rating'})\n",
    "                rv = browser.find_elements(By.XPATH, \"//span[@class='a-size-base review-text review-text-content']\")\n",
    "                if len(ttl)== len(stars):\n",
    "                    if len(stars)==len(rv):\n",
    "                        for j in range(len(ttl)):\n",
    "                            names.append(ttl[j].text)\n",
    "\n",
    "                        for k in range(len(stars)):\n",
    "                            rating.append(stars[k].get_text())\n",
    "\n",
    "                        for l in range(len(rv)):\n",
    "                            review.append(rv[l].text)\n",
    "\n",
    "                if len(browser.find_elements(By.XPATH, \"//li[@class='a-last']\"))==0:\n",
    "                    break\n",
    "                next_button = browser.find_element(By.XPATH, \"//li[@class='a-last']\")\n",
    "                next_button.click()\n",
    "                sleep(2)\n",
    "\n",
    "        browser.close()\n",
    "        browser.switch_to.window(browser.window_handles[0])\n",
    "    if p == 19:\n",
    "        break\n",
    "    browser.get(f'https://www.amazon.in/s?k=Headphones&page={p+1}&crid=3905Z8DVQTWZK&qid=1706998545&sprefix=headphones%2Caps%2C234&ref=sr_pg_2')    \n",
    "    #next_page_button = browser.find_element(By.XPATH, \"//a[@class='s-pagination-item s-pagination-next s-pagination-button s-pagination-separator']\")\n",
    "    #next_page_button.click()\n"
   ]
  },
  {
   "cell_type": "code",
   "execution_count": null,
   "id": "e4916cea",
   "metadata": {},
   "outputs": [],
   "source": [
    "names"
   ]
  },
  {
   "cell_type": "code",
   "execution_count": null,
   "id": "bcb0369e",
   "metadata": {},
   "outputs": [],
   "source": [
    "len(rating)"
   ]
  },
  {
   "cell_type": "code",
   "execution_count": null,
   "id": "8f37e5d7",
   "metadata": {},
   "outputs": [],
   "source": [
    "len(review)"
   ]
  },
  {
   "cell_type": "code",
   "execution_count": null,
   "id": "fc230c1b",
   "metadata": {},
   "outputs": [],
   "source": [
    "len(browser.find_elements(By.XPATH, \"//span[@class = 'a-size-medium a-color-base a-text-normal']\"))"
   ]
  },
  {
   "cell_type": "code",
   "execution_count": null,
   "id": "9906472d",
   "metadata": {},
   "outputs": [],
   "source": [
    "browser.get('https://www.amazon.in/s?k=Headphones&page=9&crid=3905Z8DVQTWZK&qid=1706998545&sprefix=headphones%2Caps%2C234&ref=sr_pg_2')"
   ]
  },
  {
   "cell_type": "code",
   "execution_count": null,
   "id": "ec23a586",
   "metadata": {},
   "outputs": [],
   "source": [
    "a = [1,2,3]\n",
    "b = ['ka', 'la', 'sa']\n",
    "\n",
    "dic = {\n",
    "    \"number\": a,\n",
    "    \"word\": b\n",
    "}"
   ]
  },
  {
   "cell_type": "code",
   "execution_count": null,
   "id": "58ee1a8a",
   "metadata": {},
   "outputs": [],
   "source": [
    "import pandas as pd"
   ]
  },
  {
   "cell_type": "code",
   "execution_count": null,
   "id": "d37b77bc",
   "metadata": {},
   "outputs": [],
   "source": [
    "l = pd.DataFrame(dic)"
   ]
  },
  {
   "cell_type": "code",
   "execution_count": null,
   "id": "68426faf",
   "metadata": {},
   "outputs": [],
   "source": [
    "l.to_csv(index= False)"
   ]
  },
  {
   "cell_type": "code",
   "execution_count": null,
   "id": "6c2c6de2",
   "metadata": {},
   "outputs": [],
   "source": [
    "l"
   ]
  },
  {
   "cell_type": "code",
   "execution_count": null,
   "id": "cac173be",
   "metadata": {},
   "outputs": [],
   "source": [
    "data = {\n",
    "    \"TITLE\": names,\n",
    "    \"Rating\": rating,\n",
    "    \"Review\": review\n",
    "}"
   ]
  },
  {
   "cell_type": "code",
   "execution_count": null,
   "id": "704ad01b",
   "metadata": {},
   "outputs": [],
   "source": [
    "data_scrap = pd.DataFrame(data)"
   ]
  },
  {
   "cell_type": "code",
   "execution_count": null,
   "id": "25ebc55e",
   "metadata": {},
   "outputs": [],
   "source": [
    "data_scrap.to_csv(\"Scraped_data.csv\", index = False)"
   ]
  },
  {
   "cell_type": "code",
   "execution_count": null,
   "id": "3f95e405",
   "metadata": {},
   "outputs": [],
   "source": []
  }
 ],
 "metadata": {
  "kernelspec": {
   "display_name": "Python 3 (ipykernel)",
   "language": "python",
   "name": "python3"
  },
  "language_info": {
   "codemirror_mode": {
    "name": "ipython",
    "version": 3
   },
   "file_extension": ".py",
   "mimetype": "text/x-python",
   "name": "python",
   "nbconvert_exporter": "python",
   "pygments_lexer": "ipython3",
   "version": "3.9.13"
  }
 },
 "nbformat": 4,
 "nbformat_minor": 5
}
